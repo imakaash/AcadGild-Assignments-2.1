{
 "cells": [
  {
   "cell_type": "code",
   "execution_count": 18,
   "metadata": {},
   "outputs": [
    {
     "name": "stdout",
     "output_type": "stream",
     "text": [
      "24\n",
      "0.041666666666666664\n"
     ]
    }
   ],
   "source": [
    "def myreduce(fnc, seq):\n",
    "    tally = seq[0]\n",
    "    for next in seq[1:]:\n",
    "        tally = fnc(tally, next)\n",
    "    return tally\n",
    "\n",
    "print(myreduce( (lambda x, y: x * y), [1, 2, 3, 4]))\n",
    "print(myreduce( (lambda x, y: x / y), [1, 2, 3, 4]))"
   ]
  },
  {
   "cell_type": "code",
   "execution_count": 13,
   "metadata": {},
   "outputs": [
    {
     "name": "stdout",
     "output_type": "stream",
     "text": [
      "The even numbers are:\n",
      "[2, 4, 6]\n"
     ]
    }
   ],
   "source": [
    "def myfilter(fnc, seq):\n",
    "    lst=[]\n",
    "    for next in seq:\n",
    "        if fnc(next)  and next>0:\n",
    "            lst.append(next)\n",
    "    return lst\n",
    "\n",
    "print('The even numbers are:')\n",
    "print(myfilter((lambda x: x%2==0), [1, 2, 3, 4, 5, 6, 0, -2]))"
   ]
  },
  {
   "cell_type": "code",
   "execution_count": null,
   "metadata": {},
   "outputs": [],
   "source": []
  }
 ],
 "metadata": {
  "kernelspec": {
   "display_name": "Python 3",
   "language": "python",
   "name": "python3"
  },
  "language_info": {
   "codemirror_mode": {
    "name": "ipython",
    "version": 3
   },
   "file_extension": ".py",
   "mimetype": "text/x-python",
   "name": "python",
   "nbconvert_exporter": "python",
   "pygments_lexer": "ipython3",
   "version": "3.6.4"
  }
 },
 "nbformat": 4,
 "nbformat_minor": 2
}
